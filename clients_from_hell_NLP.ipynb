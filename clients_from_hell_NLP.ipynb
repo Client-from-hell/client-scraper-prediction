{
 "nbformat": 4,
 "nbformat_minor": 2,
 "metadata": {
  "language_info": {
   "name": "python",
   "codemirror_mode": {
    "name": "ipython",
    "version": 3
   },
   "version": "3.7.0-final"
  },
  "orig_nbformat": 2,
  "file_extension": ".py",
  "mimetype": "text/x-python",
  "name": "python",
  "npconvert_exporter": "python",
  "pygments_lexer": "ipython3",
  "version": 3,
  "kernelspec": {
   "name": "python37064bit39252bf4c84f4ac2a95e48bfa91f80eb",
   "display_name": "Python 3.7.0 64-bit"
  }
 },
 "cells": [
  {
   "cell_type": "code",
   "execution_count": 1,
   "metadata": {},
   "outputs": [],
   "source": [
    "from textblob import TextBlob, Word\n",
    "import pandas as pd\n",
    "import numpy as np\n",
    "from sklearn.metrics import roc_auc_score"
   ]
  },
  {
   "cell_type": "code",
   "execution_count": 2,
   "metadata": {},
   "outputs": [
    {
     "data": {
      "text/html": "<div>\n<style scoped>\n    .dataframe tbody tr th:only-of-type {\n        vertical-align: middle;\n    }\n\n    .dataframe tbody tr th {\n        vertical-align: top;\n    }\n\n    .dataframe thead th {\n        text-align: right;\n    }\n</style>\n<table border=\"1\" class=\"dataframe\">\n  <thead>\n    <tr style=\"text-align: right;\">\n      <th></th>\n      <th>who</th>\n      <th>category</th>\n      <th>sentences</th>\n    </tr>\n  </thead>\n  <tbody>\n    <tr>\n      <th>0</th>\n      <td>Client:</td>\n      <td>Sexist</td>\n      <td>em  pulling out page   of the sun newspaper  ...</td>\n    </tr>\n    <tr>\n      <th>1</th>\n      <td>Client:</td>\n      <td>Sexist</td>\n      <td>are you some sort of faggot</td>\n    </tr>\n    <tr>\n      <th>2</th>\n      <td>Client</td>\n      <td>Sexist</td>\n      <td>i d like you to update the site again  as pa...</td>\n    </tr>\n    <tr>\n      <th>3</th>\n      <td>Client:</td>\n      <td>Sexist</td>\n      <td>every time i turn a page of the book i m trans...</td>\n    </tr>\n    <tr>\n      <th>4</th>\n      <td>Me:</td>\n      <td>Sexist</td>\n      <td>alright  since your editors aren t really tec...</td>\n    </tr>\n  </tbody>\n</table>\n</div>",
      "text/plain": "        who category                                          sentences\n0  Client:    Sexist   em  pulling out page   of the sun newspaper  ...\n1  Client:    Sexist                       are you some sort of faggot \n2    Client   Sexist    i d like you to update the site again  as pa...\n3  Client:    Sexist  every time i turn a page of the book i m trans...\n4       Me:   Sexist   alright  since your editors aren t really tec..."
     },
     "execution_count": 2,
     "metadata": {},
     "output_type": "execute_result"
    }
   ],
   "source": [
    "df = pd.read_csv('new_export_dataframe.csv')\n",
    "df.head()"
   ]
  },
  {
   "cell_type": "code",
   "execution_count": 3,
   "metadata": {},
   "outputs": [],
   "source": [
    "df['deadbeats'] = np.where((df['category'] == 'Deadbeats'), 1, 0)"
   ]
  },
  {
   "cell_type": "code",
   "execution_count": 4,
   "metadata": {},
   "outputs": [
    {
     "data": {
      "text/html": "<div>\n<style scoped>\n    .dataframe tbody tr th:only-of-type {\n        vertical-align: middle;\n    }\n\n    .dataframe tbody tr th {\n        vertical-align: top;\n    }\n\n    .dataframe thead th {\n        text-align: right;\n    }\n</style>\n<table border=\"1\" class=\"dataframe\">\n  <thead>\n    <tr style=\"text-align: right;\">\n      <th></th>\n      <th>who</th>\n      <th>category</th>\n      <th>sentences</th>\n      <th>deadbeats</th>\n    </tr>\n  </thead>\n  <tbody>\n    <tr>\n      <th>0</th>\n      <td>Client:</td>\n      <td>Sexist</td>\n      <td>em  pulling out page   of the sun newspaper  ...</td>\n      <td>0</td>\n    </tr>\n    <tr>\n      <th>1</th>\n      <td>Client:</td>\n      <td>Sexist</td>\n      <td>are you some sort of faggot</td>\n      <td>0</td>\n    </tr>\n    <tr>\n      <th>2</th>\n      <td>Client</td>\n      <td>Sexist</td>\n      <td>i d like you to update the site again  as pa...</td>\n      <td>0</td>\n    </tr>\n    <tr>\n      <th>3</th>\n      <td>Client:</td>\n      <td>Sexist</td>\n      <td>every time i turn a page of the book i m trans...</td>\n      <td>0</td>\n    </tr>\n    <tr>\n      <th>4</th>\n      <td>Me:</td>\n      <td>Sexist</td>\n      <td>alright  since your editors aren t really tec...</td>\n      <td>0</td>\n    </tr>\n  </tbody>\n</table>\n</div>",
      "text/plain": "        who category                                          sentences  \\\n0  Client:    Sexist   em  pulling out page   of the sun newspaper  ...   \n1  Client:    Sexist                       are you some sort of faggot    \n2    Client   Sexist    i d like you to update the site again  as pa...   \n3  Client:    Sexist  every time i turn a page of the book i m trans...   \n4       Me:   Sexist   alright  since your editors aren t really tec...   \n\n   deadbeats  \n0          0  \n1          0  \n2          0  \n3          0  \n4          0  "
     },
     "execution_count": 4,
     "metadata": {},
     "output_type": "execute_result"
    }
   ],
   "source": [
    "df.head()"
   ]
  },
  {
   "cell_type": "code",
   "execution_count": 5,
   "metadata": {},
   "outputs": [],
   "source": [
    "from nltk.corpus import stopwords\n",
    "en_stopwords = stopwords.words(\"english\")"
   ]
  },
  {
   "cell_type": "code",
   "execution_count": 6,
   "metadata": {},
   "outputs": [],
   "source": [
    "from sklearn.feature_extraction.text import TfidfVectorizer\n",
    "\n",
    "tfidf = TfidfVectorizer()\n",
    "word_count_vectors = tfidf.fit_transform(\n",
    "    df['sentences'].apply(\n",
    "        lambda x: ' '.join([Word(w).lemmatize() for w in x.split() if w not in en_stopwords])\n",
    "    ).values).todense().tolist()"
   ]
  },
  {
   "cell_type": "code",
   "execution_count": 7,
   "metadata": {},
   "outputs": [
    {
     "data": {
      "text/html": "<div>\n<style scoped>\n    .dataframe tbody tr th:only-of-type {\n        vertical-align: middle;\n    }\n\n    .dataframe tbody tr th {\n        vertical-align: top;\n    }\n\n    .dataframe thead th {\n        text-align: right;\n    }\n</style>\n<table border=\"1\" class=\"dataframe\">\n  <thead>\n    <tr style=\"text-align: right;\">\n      <th></th>\n      <th>who</th>\n      <th>category</th>\n      <th>sentences</th>\n      <th>deadbeats</th>\n    </tr>\n  </thead>\n  <tbody>\n    <tr>\n      <th>0</th>\n      <td>Client:</td>\n      <td>Sexist</td>\n      <td>em  pulling out page   of the sun newspaper  ...</td>\n      <td>0</td>\n    </tr>\n    <tr>\n      <th>1</th>\n      <td>Client:</td>\n      <td>Sexist</td>\n      <td>are you some sort of faggot</td>\n      <td>0</td>\n    </tr>\n    <tr>\n      <th>2</th>\n      <td>Client</td>\n      <td>Sexist</td>\n      <td>i d like you to update the site again  as pa...</td>\n      <td>0</td>\n    </tr>\n    <tr>\n      <th>3</th>\n      <td>Client:</td>\n      <td>Sexist</td>\n      <td>every time i turn a page of the book i m trans...</td>\n      <td>0</td>\n    </tr>\n    <tr>\n      <th>4</th>\n      <td>Me:</td>\n      <td>Sexist</td>\n      <td>alright  since your editors aren t really tec...</td>\n      <td>0</td>\n    </tr>\n  </tbody>\n</table>\n</div>",
      "text/plain": "        who category                                          sentences  \\\n0  Client:    Sexist   em  pulling out page   of the sun newspaper  ...   \n1  Client:    Sexist                       are you some sort of faggot    \n2    Client   Sexist    i d like you to update the site again  as pa...   \n3  Client:    Sexist  every time i turn a page of the book i m trans...   \n4       Me:   Sexist   alright  since your editors aren t really tec...   \n\n   deadbeats  \n0          0  \n1          0  \n2          0  \n3          0  \n4          0  "
     },
     "execution_count": 7,
     "metadata": {},
     "output_type": "execute_result"
    }
   ],
   "source": [
    "df.head()"
   ]
  },
  {
   "cell_type": "code",
   "execution_count": 8,
   "metadata": {},
   "outputs": [
    {
     "data": {
      "text/html": "<div>\n<style scoped>\n    .dataframe tbody tr th:only-of-type {\n        vertical-align: middle;\n    }\n\n    .dataframe tbody tr th {\n        vertical-align: top;\n    }\n\n    .dataframe thead th {\n        text-align: right;\n    }\n</style>\n<table border=\"1\" class=\"dataframe\">\n  <thead>\n    <tr style=\"text-align: right;\">\n      <th></th>\n      <th>abandoned</th>\n      <th>ability</th>\n      <th>able</th>\n      <th>absolute</th>\n      <th>absolutely</th>\n      <th>accent</th>\n      <th>accept</th>\n      <th>acceptable</th>\n      <th>accepted</th>\n      <th>accepts</th>\n      <th>...</th>\n      <th>yet</th>\n      <th>young</th>\n      <th>youre</th>\n      <th>youtube</th>\n      <th>youve</th>\n      <th>yr</th>\n      <th>yyyy</th>\n      <th>zip</th>\n      <th>zone</th>\n      <th>zoomed</th>\n    </tr>\n  </thead>\n  <tbody>\n    <tr>\n      <th>0</th>\n      <td>0.0</td>\n      <td>0.0</td>\n      <td>0.0</td>\n      <td>0.0</td>\n      <td>0.0</td>\n      <td>0.0</td>\n      <td>0.0</td>\n      <td>0.0</td>\n      <td>0.0</td>\n      <td>0.0</td>\n      <td>...</td>\n      <td>0.000000</td>\n      <td>0.0</td>\n      <td>0.0</td>\n      <td>0.0</td>\n      <td>0.0</td>\n      <td>0.0</td>\n      <td>0.0</td>\n      <td>0.0</td>\n      <td>0.0</td>\n      <td>0.0</td>\n    </tr>\n    <tr>\n      <th>1</th>\n      <td>0.0</td>\n      <td>0.0</td>\n      <td>0.0</td>\n      <td>0.0</td>\n      <td>0.0</td>\n      <td>0.0</td>\n      <td>0.0</td>\n      <td>0.0</td>\n      <td>0.0</td>\n      <td>0.0</td>\n      <td>...</td>\n      <td>0.000000</td>\n      <td>0.0</td>\n      <td>0.0</td>\n      <td>0.0</td>\n      <td>0.0</td>\n      <td>0.0</td>\n      <td>0.0</td>\n      <td>0.0</td>\n      <td>0.0</td>\n      <td>0.0</td>\n    </tr>\n    <tr>\n      <th>2</th>\n      <td>0.0</td>\n      <td>0.0</td>\n      <td>0.0</td>\n      <td>0.0</td>\n      <td>0.0</td>\n      <td>0.0</td>\n      <td>0.0</td>\n      <td>0.0</td>\n      <td>0.0</td>\n      <td>0.0</td>\n      <td>...</td>\n      <td>0.000000</td>\n      <td>0.0</td>\n      <td>0.0</td>\n      <td>0.0</td>\n      <td>0.0</td>\n      <td>0.0</td>\n      <td>0.0</td>\n      <td>0.0</td>\n      <td>0.0</td>\n      <td>0.0</td>\n    </tr>\n    <tr>\n      <th>3</th>\n      <td>0.0</td>\n      <td>0.0</td>\n      <td>0.0</td>\n      <td>0.0</td>\n      <td>0.0</td>\n      <td>0.0</td>\n      <td>0.0</td>\n      <td>0.0</td>\n      <td>0.0</td>\n      <td>0.0</td>\n      <td>...</td>\n      <td>0.000000</td>\n      <td>0.0</td>\n      <td>0.0</td>\n      <td>0.0</td>\n      <td>0.0</td>\n      <td>0.0</td>\n      <td>0.0</td>\n      <td>0.0</td>\n      <td>0.0</td>\n      <td>0.0</td>\n    </tr>\n    <tr>\n      <th>4</th>\n      <td>0.0</td>\n      <td>0.0</td>\n      <td>0.0</td>\n      <td>0.0</td>\n      <td>0.0</td>\n      <td>0.0</td>\n      <td>0.0</td>\n      <td>0.0</td>\n      <td>0.0</td>\n      <td>0.0</td>\n      <td>...</td>\n      <td>0.000000</td>\n      <td>0.0</td>\n      <td>0.0</td>\n      <td>0.0</td>\n      <td>0.0</td>\n      <td>0.0</td>\n      <td>0.0</td>\n      <td>0.0</td>\n      <td>0.0</td>\n      <td>0.0</td>\n    </tr>\n    <tr>\n      <th>5</th>\n      <td>0.0</td>\n      <td>0.0</td>\n      <td>0.0</td>\n      <td>0.0</td>\n      <td>0.0</td>\n      <td>0.0</td>\n      <td>0.0</td>\n      <td>0.0</td>\n      <td>0.0</td>\n      <td>0.0</td>\n      <td>...</td>\n      <td>0.000000</td>\n      <td>0.0</td>\n      <td>0.0</td>\n      <td>0.0</td>\n      <td>0.0</td>\n      <td>0.0</td>\n      <td>0.0</td>\n      <td>0.0</td>\n      <td>0.0</td>\n      <td>0.0</td>\n    </tr>\n    <tr>\n      <th>6</th>\n      <td>0.0</td>\n      <td>0.0</td>\n      <td>0.0</td>\n      <td>0.0</td>\n      <td>0.0</td>\n      <td>0.0</td>\n      <td>0.0</td>\n      <td>0.0</td>\n      <td>0.0</td>\n      <td>0.0</td>\n      <td>...</td>\n      <td>0.000000</td>\n      <td>0.0</td>\n      <td>0.0</td>\n      <td>0.0</td>\n      <td>0.0</td>\n      <td>0.0</td>\n      <td>0.0</td>\n      <td>0.0</td>\n      <td>0.0</td>\n      <td>0.0</td>\n    </tr>\n    <tr>\n      <th>7</th>\n      <td>0.0</td>\n      <td>0.0</td>\n      <td>0.0</td>\n      <td>0.0</td>\n      <td>0.0</td>\n      <td>0.0</td>\n      <td>0.0</td>\n      <td>0.0</td>\n      <td>0.0</td>\n      <td>0.0</td>\n      <td>...</td>\n      <td>0.000000</td>\n      <td>0.0</td>\n      <td>0.0</td>\n      <td>0.0</td>\n      <td>0.0</td>\n      <td>0.0</td>\n      <td>0.0</td>\n      <td>0.0</td>\n      <td>0.0</td>\n      <td>0.0</td>\n    </tr>\n    <tr>\n      <th>8</th>\n      <td>0.0</td>\n      <td>0.0</td>\n      <td>0.0</td>\n      <td>0.0</td>\n      <td>0.0</td>\n      <td>0.0</td>\n      <td>0.0</td>\n      <td>0.0</td>\n      <td>0.0</td>\n      <td>0.0</td>\n      <td>...</td>\n      <td>0.000000</td>\n      <td>0.0</td>\n      <td>0.0</td>\n      <td>0.0</td>\n      <td>0.0</td>\n      <td>0.0</td>\n      <td>0.0</td>\n      <td>0.0</td>\n      <td>0.0</td>\n      <td>0.0</td>\n    </tr>\n    <tr>\n      <th>9</th>\n      <td>0.0</td>\n      <td>0.0</td>\n      <td>0.0</td>\n      <td>0.0</td>\n      <td>0.0</td>\n      <td>0.0</td>\n      <td>0.0</td>\n      <td>0.0</td>\n      <td>0.0</td>\n      <td>0.0</td>\n      <td>...</td>\n      <td>0.000000</td>\n      <td>0.0</td>\n      <td>0.0</td>\n      <td>0.0</td>\n      <td>0.0</td>\n      <td>0.0</td>\n      <td>0.0</td>\n      <td>0.0</td>\n      <td>0.0</td>\n      <td>0.0</td>\n    </tr>\n    <tr>\n      <th>10</th>\n      <td>0.0</td>\n      <td>0.0</td>\n      <td>0.0</td>\n      <td>0.0</td>\n      <td>0.0</td>\n      <td>0.0</td>\n      <td>0.0</td>\n      <td>0.0</td>\n      <td>0.0</td>\n      <td>0.0</td>\n      <td>...</td>\n      <td>0.000000</td>\n      <td>0.0</td>\n      <td>0.0</td>\n      <td>0.0</td>\n      <td>0.0</td>\n      <td>0.0</td>\n      <td>0.0</td>\n      <td>0.0</td>\n      <td>0.0</td>\n      <td>0.0</td>\n    </tr>\n    <tr>\n      <th>11</th>\n      <td>0.0</td>\n      <td>0.0</td>\n      <td>0.0</td>\n      <td>0.0</td>\n      <td>0.0</td>\n      <td>0.0</td>\n      <td>0.0</td>\n      <td>0.0</td>\n      <td>0.0</td>\n      <td>0.0</td>\n      <td>...</td>\n      <td>0.000000</td>\n      <td>0.0</td>\n      <td>0.0</td>\n      <td>0.0</td>\n      <td>0.0</td>\n      <td>0.0</td>\n      <td>0.0</td>\n      <td>0.0</td>\n      <td>0.0</td>\n      <td>0.0</td>\n    </tr>\n    <tr>\n      <th>12</th>\n      <td>0.0</td>\n      <td>0.0</td>\n      <td>0.0</td>\n      <td>0.0</td>\n      <td>0.0</td>\n      <td>0.0</td>\n      <td>0.0</td>\n      <td>0.0</td>\n      <td>0.0</td>\n      <td>0.0</td>\n      <td>...</td>\n      <td>0.000000</td>\n      <td>0.0</td>\n      <td>0.0</td>\n      <td>0.0</td>\n      <td>0.0</td>\n      <td>0.0</td>\n      <td>0.0</td>\n      <td>0.0</td>\n      <td>0.0</td>\n      <td>0.0</td>\n    </tr>\n    <tr>\n      <th>13</th>\n      <td>0.0</td>\n      <td>0.0</td>\n      <td>0.0</td>\n      <td>0.0</td>\n      <td>0.0</td>\n      <td>0.0</td>\n      <td>0.0</td>\n      <td>0.0</td>\n      <td>0.0</td>\n      <td>0.0</td>\n      <td>...</td>\n      <td>0.000000</td>\n      <td>0.0</td>\n      <td>0.0</td>\n      <td>0.0</td>\n      <td>0.0</td>\n      <td>0.0</td>\n      <td>0.0</td>\n      <td>0.0</td>\n      <td>0.0</td>\n      <td>0.0</td>\n    </tr>\n    <tr>\n      <th>14</th>\n      <td>0.0</td>\n      <td>0.0</td>\n      <td>0.0</td>\n      <td>0.0</td>\n      <td>0.0</td>\n      <td>0.0</td>\n      <td>0.0</td>\n      <td>0.0</td>\n      <td>0.0</td>\n      <td>0.0</td>\n      <td>...</td>\n      <td>0.000000</td>\n      <td>0.0</td>\n      <td>0.0</td>\n      <td>0.0</td>\n      <td>0.0</td>\n      <td>0.0</td>\n      <td>0.0</td>\n      <td>0.0</td>\n      <td>0.0</td>\n      <td>0.0</td>\n    </tr>\n    <tr>\n      <th>15</th>\n      <td>0.0</td>\n      <td>0.0</td>\n      <td>0.0</td>\n      <td>0.0</td>\n      <td>0.0</td>\n      <td>0.0</td>\n      <td>0.0</td>\n      <td>0.0</td>\n      <td>0.0</td>\n      <td>0.0</td>\n      <td>...</td>\n      <td>0.000000</td>\n      <td>0.0</td>\n      <td>0.0</td>\n      <td>0.0</td>\n      <td>0.0</td>\n      <td>0.0</td>\n      <td>0.0</td>\n      <td>0.0</td>\n      <td>0.0</td>\n      <td>0.0</td>\n    </tr>\n    <tr>\n      <th>16</th>\n      <td>0.0</td>\n      <td>0.0</td>\n      <td>0.0</td>\n      <td>0.0</td>\n      <td>0.0</td>\n      <td>0.0</td>\n      <td>0.0</td>\n      <td>0.0</td>\n      <td>0.0</td>\n      <td>0.0</td>\n      <td>...</td>\n      <td>0.000000</td>\n      <td>0.0</td>\n      <td>0.0</td>\n      <td>0.0</td>\n      <td>0.0</td>\n      <td>0.0</td>\n      <td>0.0</td>\n      <td>0.0</td>\n      <td>0.0</td>\n      <td>0.0</td>\n    </tr>\n    <tr>\n      <th>17</th>\n      <td>0.0</td>\n      <td>0.0</td>\n      <td>0.0</td>\n      <td>0.0</td>\n      <td>0.0</td>\n      <td>0.0</td>\n      <td>0.0</td>\n      <td>0.0</td>\n      <td>0.0</td>\n      <td>0.0</td>\n      <td>...</td>\n      <td>0.000000</td>\n      <td>0.0</td>\n      <td>0.0</td>\n      <td>0.0</td>\n      <td>0.0</td>\n      <td>0.0</td>\n      <td>0.0</td>\n      <td>0.0</td>\n      <td>0.0</td>\n      <td>0.0</td>\n    </tr>\n    <tr>\n      <th>18</th>\n      <td>0.0</td>\n      <td>0.0</td>\n      <td>0.0</td>\n      <td>0.0</td>\n      <td>0.0</td>\n      <td>0.0</td>\n      <td>0.0</td>\n      <td>0.0</td>\n      <td>0.0</td>\n      <td>0.0</td>\n      <td>...</td>\n      <td>0.000000</td>\n      <td>0.0</td>\n      <td>0.0</td>\n      <td>0.0</td>\n      <td>0.0</td>\n      <td>0.0</td>\n      <td>0.0</td>\n      <td>0.0</td>\n      <td>0.0</td>\n      <td>0.0</td>\n    </tr>\n    <tr>\n      <th>19</th>\n      <td>0.0</td>\n      <td>0.0</td>\n      <td>0.0</td>\n      <td>0.0</td>\n      <td>0.0</td>\n      <td>0.0</td>\n      <td>0.0</td>\n      <td>0.0</td>\n      <td>0.0</td>\n      <td>0.0</td>\n      <td>...</td>\n      <td>0.000000</td>\n      <td>0.0</td>\n      <td>0.0</td>\n      <td>0.0</td>\n      <td>0.0</td>\n      <td>0.0</td>\n      <td>0.0</td>\n      <td>0.0</td>\n      <td>0.0</td>\n      <td>0.0</td>\n    </tr>\n    <tr>\n      <th>20</th>\n      <td>0.0</td>\n      <td>0.0</td>\n      <td>0.0</td>\n      <td>0.0</td>\n      <td>0.0</td>\n      <td>0.0</td>\n      <td>0.0</td>\n      <td>0.0</td>\n      <td>0.0</td>\n      <td>0.0</td>\n      <td>...</td>\n      <td>0.000000</td>\n      <td>0.0</td>\n      <td>0.0</td>\n      <td>0.0</td>\n      <td>0.0</td>\n      <td>0.0</td>\n      <td>0.0</td>\n      <td>0.0</td>\n      <td>0.0</td>\n      <td>0.0</td>\n    </tr>\n    <tr>\n      <th>21</th>\n      <td>0.0</td>\n      <td>0.0</td>\n      <td>0.0</td>\n      <td>0.0</td>\n      <td>0.0</td>\n      <td>0.0</td>\n      <td>0.0</td>\n      <td>0.0</td>\n      <td>0.0</td>\n      <td>0.0</td>\n      <td>...</td>\n      <td>0.000000</td>\n      <td>0.0</td>\n      <td>0.0</td>\n      <td>0.0</td>\n      <td>0.0</td>\n      <td>0.0</td>\n      <td>0.0</td>\n      <td>0.0</td>\n      <td>0.0</td>\n      <td>0.0</td>\n    </tr>\n    <tr>\n      <th>22</th>\n      <td>0.0</td>\n      <td>0.0</td>\n      <td>0.0</td>\n      <td>0.0</td>\n      <td>0.0</td>\n      <td>0.0</td>\n      <td>0.0</td>\n      <td>0.0</td>\n      <td>0.0</td>\n      <td>0.0</td>\n      <td>...</td>\n      <td>0.000000</td>\n      <td>0.0</td>\n      <td>0.0</td>\n      <td>0.0</td>\n      <td>0.0</td>\n      <td>0.0</td>\n      <td>0.0</td>\n      <td>0.0</td>\n      <td>0.0</td>\n      <td>0.0</td>\n    </tr>\n    <tr>\n      <th>23</th>\n      <td>0.0</td>\n      <td>0.0</td>\n      <td>0.0</td>\n      <td>0.0</td>\n      <td>0.0</td>\n      <td>0.0</td>\n      <td>0.0</td>\n      <td>0.0</td>\n      <td>0.0</td>\n      <td>0.0</td>\n      <td>...</td>\n      <td>0.000000</td>\n      <td>0.0</td>\n      <td>0.0</td>\n      <td>0.0</td>\n      <td>0.0</td>\n      <td>0.0</td>\n      <td>0.0</td>\n      <td>0.0</td>\n      <td>0.0</td>\n      <td>0.0</td>\n    </tr>\n    <tr>\n      <th>24</th>\n      <td>0.0</td>\n      <td>0.0</td>\n      <td>0.0</td>\n      <td>0.0</td>\n      <td>0.0</td>\n      <td>0.0</td>\n      <td>0.0</td>\n      <td>0.0</td>\n      <td>0.0</td>\n      <td>0.0</td>\n      <td>...</td>\n      <td>0.000000</td>\n      <td>0.0</td>\n      <td>0.0</td>\n      <td>0.0</td>\n      <td>0.0</td>\n      <td>0.0</td>\n      <td>0.0</td>\n      <td>0.0</td>\n      <td>0.0</td>\n      <td>0.0</td>\n    </tr>\n    <tr>\n      <th>25</th>\n      <td>0.0</td>\n      <td>0.0</td>\n      <td>0.0</td>\n      <td>0.0</td>\n      <td>0.0</td>\n      <td>0.0</td>\n      <td>0.0</td>\n      <td>0.0</td>\n      <td>0.0</td>\n      <td>0.0</td>\n      <td>...</td>\n      <td>0.000000</td>\n      <td>0.0</td>\n      <td>0.0</td>\n      <td>0.0</td>\n      <td>0.0</td>\n      <td>0.0</td>\n      <td>0.0</td>\n      <td>0.0</td>\n      <td>0.0</td>\n      <td>0.0</td>\n    </tr>\n    <tr>\n      <th>26</th>\n      <td>0.0</td>\n      <td>0.0</td>\n      <td>0.0</td>\n      <td>0.0</td>\n      <td>0.0</td>\n      <td>0.0</td>\n      <td>0.0</td>\n      <td>0.0</td>\n      <td>0.0</td>\n      <td>0.0</td>\n      <td>...</td>\n      <td>0.000000</td>\n      <td>0.0</td>\n      <td>0.0</td>\n      <td>0.0</td>\n      <td>0.0</td>\n      <td>0.0</td>\n      <td>0.0</td>\n      <td>0.0</td>\n      <td>0.0</td>\n      <td>0.0</td>\n    </tr>\n    <tr>\n      <th>27</th>\n      <td>0.0</td>\n      <td>0.0</td>\n      <td>0.0</td>\n      <td>0.0</td>\n      <td>0.0</td>\n      <td>0.0</td>\n      <td>0.0</td>\n      <td>0.0</td>\n      <td>0.0</td>\n      <td>0.0</td>\n      <td>...</td>\n      <td>0.000000</td>\n      <td>0.0</td>\n      <td>0.0</td>\n      <td>0.0</td>\n      <td>0.0</td>\n      <td>0.0</td>\n      <td>0.0</td>\n      <td>0.0</td>\n      <td>0.0</td>\n      <td>0.0</td>\n    </tr>\n    <tr>\n      <th>28</th>\n      <td>0.0</td>\n      <td>0.0</td>\n      <td>0.0</td>\n      <td>0.0</td>\n      <td>0.0</td>\n      <td>0.0</td>\n      <td>0.0</td>\n      <td>0.0</td>\n      <td>0.0</td>\n      <td>0.0</td>\n      <td>...</td>\n      <td>0.000000</td>\n      <td>0.0</td>\n      <td>0.0</td>\n      <td>0.0</td>\n      <td>0.0</td>\n      <td>0.0</td>\n      <td>0.0</td>\n      <td>0.0</td>\n      <td>0.0</td>\n      <td>0.0</td>\n    </tr>\n    <tr>\n      <th>29</th>\n      <td>0.0</td>\n      <td>0.0</td>\n      <td>0.0</td>\n      <td>0.0</td>\n      <td>0.0</td>\n      <td>0.0</td>\n      <td>0.0</td>\n      <td>0.0</td>\n      <td>0.0</td>\n      <td>0.0</td>\n      <td>...</td>\n      <td>0.000000</td>\n      <td>0.0</td>\n      <td>0.0</td>\n      <td>0.0</td>\n      <td>0.0</td>\n      <td>0.0</td>\n      <td>0.0</td>\n      <td>0.0</td>\n      <td>0.0</td>\n      <td>0.0</td>\n    </tr>\n    <tr>\n      <th>...</th>\n      <td>...</td>\n      <td>...</td>\n      <td>...</td>\n      <td>...</td>\n      <td>...</td>\n      <td>...</td>\n      <td>...</td>\n      <td>...</td>\n      <td>...</td>\n      <td>...</td>\n      <td>...</td>\n      <td>...</td>\n      <td>...</td>\n      <td>...</td>\n      <td>...</td>\n      <td>...</td>\n      <td>...</td>\n      <td>...</td>\n      <td>...</td>\n      <td>...</td>\n      <td>...</td>\n    </tr>\n    <tr>\n      <th>4183</th>\n      <td>0.0</td>\n      <td>0.0</td>\n      <td>0.0</td>\n      <td>0.0</td>\n      <td>0.0</td>\n      <td>0.0</td>\n      <td>0.0</td>\n      <td>0.0</td>\n      <td>0.0</td>\n      <td>0.0</td>\n      <td>...</td>\n      <td>0.000000</td>\n      <td>0.0</td>\n      <td>0.0</td>\n      <td>0.0</td>\n      <td>0.0</td>\n      <td>0.0</td>\n      <td>0.0</td>\n      <td>0.0</td>\n      <td>0.0</td>\n      <td>0.0</td>\n    </tr>\n    <tr>\n      <th>4184</th>\n      <td>0.0</td>\n      <td>0.0</td>\n      <td>0.0</td>\n      <td>0.0</td>\n      <td>0.0</td>\n      <td>0.0</td>\n      <td>0.0</td>\n      <td>0.0</td>\n      <td>0.0</td>\n      <td>0.0</td>\n      <td>...</td>\n      <td>0.000000</td>\n      <td>0.0</td>\n      <td>0.0</td>\n      <td>0.0</td>\n      <td>0.0</td>\n      <td>0.0</td>\n      <td>0.0</td>\n      <td>0.0</td>\n      <td>0.0</td>\n      <td>0.0</td>\n    </tr>\n    <tr>\n      <th>4185</th>\n      <td>0.0</td>\n      <td>0.0</td>\n      <td>0.0</td>\n      <td>0.0</td>\n      <td>0.0</td>\n      <td>0.0</td>\n      <td>0.0</td>\n      <td>0.0</td>\n      <td>0.0</td>\n      <td>0.0</td>\n      <td>...</td>\n      <td>0.000000</td>\n      <td>0.0</td>\n      <td>0.0</td>\n      <td>0.0</td>\n      <td>0.0</td>\n      <td>0.0</td>\n      <td>0.0</td>\n      <td>0.0</td>\n      <td>0.0</td>\n      <td>0.0</td>\n    </tr>\n    <tr>\n      <th>4186</th>\n      <td>0.0</td>\n      <td>0.0</td>\n      <td>0.0</td>\n      <td>0.0</td>\n      <td>0.0</td>\n      <td>0.0</td>\n      <td>0.0</td>\n      <td>0.0</td>\n      <td>0.0</td>\n      <td>0.0</td>\n      <td>...</td>\n      <td>0.000000</td>\n      <td>0.0</td>\n      <td>0.0</td>\n      <td>0.0</td>\n      <td>0.0</td>\n      <td>0.0</td>\n      <td>0.0</td>\n      <td>0.0</td>\n      <td>0.0</td>\n      <td>0.0</td>\n    </tr>\n    <tr>\n      <th>4187</th>\n      <td>0.0</td>\n      <td>0.0</td>\n      <td>0.0</td>\n      <td>0.0</td>\n      <td>0.0</td>\n      <td>0.0</td>\n      <td>0.0</td>\n      <td>0.0</td>\n      <td>0.0</td>\n      <td>0.0</td>\n      <td>...</td>\n      <td>0.000000</td>\n      <td>0.0</td>\n      <td>0.0</td>\n      <td>0.0</td>\n      <td>0.0</td>\n      <td>0.0</td>\n      <td>0.0</td>\n      <td>0.0</td>\n      <td>0.0</td>\n      <td>0.0</td>\n    </tr>\n    <tr>\n      <th>4188</th>\n      <td>0.0</td>\n      <td>0.0</td>\n      <td>0.0</td>\n      <td>0.0</td>\n      <td>0.0</td>\n      <td>0.0</td>\n      <td>0.0</td>\n      <td>0.0</td>\n      <td>0.0</td>\n      <td>0.0</td>\n      <td>...</td>\n      <td>0.000000</td>\n      <td>0.0</td>\n      <td>0.0</td>\n      <td>0.0</td>\n      <td>0.0</td>\n      <td>0.0</td>\n      <td>0.0</td>\n      <td>0.0</td>\n      <td>0.0</td>\n      <td>0.0</td>\n    </tr>\n    <tr>\n      <th>4189</th>\n      <td>0.0</td>\n      <td>0.0</td>\n      <td>0.0</td>\n      <td>0.0</td>\n      <td>0.0</td>\n      <td>0.0</td>\n      <td>0.0</td>\n      <td>0.0</td>\n      <td>0.0</td>\n      <td>0.0</td>\n      <td>...</td>\n      <td>0.000000</td>\n      <td>0.0</td>\n      <td>0.0</td>\n      <td>0.0</td>\n      <td>0.0</td>\n      <td>0.0</td>\n      <td>0.0</td>\n      <td>0.0</td>\n      <td>0.0</td>\n      <td>0.0</td>\n    </tr>\n    <tr>\n      <th>4190</th>\n      <td>0.0</td>\n      <td>0.0</td>\n      <td>0.0</td>\n      <td>0.0</td>\n      <td>0.0</td>\n      <td>0.0</td>\n      <td>0.0</td>\n      <td>0.0</td>\n      <td>0.0</td>\n      <td>0.0</td>\n      <td>...</td>\n      <td>0.000000</td>\n      <td>0.0</td>\n      <td>0.0</td>\n      <td>0.0</td>\n      <td>0.0</td>\n      <td>0.0</td>\n      <td>0.0</td>\n      <td>0.0</td>\n      <td>0.0</td>\n      <td>0.0</td>\n    </tr>\n    <tr>\n      <th>4191</th>\n      <td>0.0</td>\n      <td>0.0</td>\n      <td>0.0</td>\n      <td>0.0</td>\n      <td>0.0</td>\n      <td>0.0</td>\n      <td>0.0</td>\n      <td>0.0</td>\n      <td>0.0</td>\n      <td>0.0</td>\n      <td>...</td>\n      <td>0.000000</td>\n      <td>0.0</td>\n      <td>0.0</td>\n      <td>0.0</td>\n      <td>0.0</td>\n      <td>0.0</td>\n      <td>0.0</td>\n      <td>0.0</td>\n      <td>0.0</td>\n      <td>0.0</td>\n    </tr>\n    <tr>\n      <th>4192</th>\n      <td>0.0</td>\n      <td>0.0</td>\n      <td>0.0</td>\n      <td>0.0</td>\n      <td>0.0</td>\n      <td>0.0</td>\n      <td>0.0</td>\n      <td>0.0</td>\n      <td>0.0</td>\n      <td>0.0</td>\n      <td>...</td>\n      <td>0.000000</td>\n      <td>0.0</td>\n      <td>0.0</td>\n      <td>0.0</td>\n      <td>0.0</td>\n      <td>0.0</td>\n      <td>0.0</td>\n      <td>0.0</td>\n      <td>0.0</td>\n      <td>0.0</td>\n    </tr>\n    <tr>\n      <th>4193</th>\n      <td>0.0</td>\n      <td>0.0</td>\n      <td>0.0</td>\n      <td>0.0</td>\n      <td>0.0</td>\n      <td>0.0</td>\n      <td>0.0</td>\n      <td>0.0</td>\n      <td>0.0</td>\n      <td>0.0</td>\n      <td>...</td>\n      <td>0.000000</td>\n      <td>0.0</td>\n      <td>0.0</td>\n      <td>0.0</td>\n      <td>0.0</td>\n      <td>0.0</td>\n      <td>0.0</td>\n      <td>0.0</td>\n      <td>0.0</td>\n      <td>0.0</td>\n    </tr>\n    <tr>\n      <th>4194</th>\n      <td>0.0</td>\n      <td>0.0</td>\n      <td>0.0</td>\n      <td>0.0</td>\n      <td>0.0</td>\n      <td>0.0</td>\n      <td>0.0</td>\n      <td>0.0</td>\n      <td>0.0</td>\n      <td>0.0</td>\n      <td>...</td>\n      <td>0.000000</td>\n      <td>0.0</td>\n      <td>0.0</td>\n      <td>0.0</td>\n      <td>0.0</td>\n      <td>0.0</td>\n      <td>0.0</td>\n      <td>0.0</td>\n      <td>0.0</td>\n      <td>0.0</td>\n    </tr>\n    <tr>\n      <th>4195</th>\n      <td>0.0</td>\n      <td>0.0</td>\n      <td>0.0</td>\n      <td>0.0</td>\n      <td>0.0</td>\n      <td>0.0</td>\n      <td>0.0</td>\n      <td>0.0</td>\n      <td>0.0</td>\n      <td>0.0</td>\n      <td>...</td>\n      <td>0.000000</td>\n      <td>0.0</td>\n      <td>0.0</td>\n      <td>0.0</td>\n      <td>0.0</td>\n      <td>0.0</td>\n      <td>0.0</td>\n      <td>0.0</td>\n      <td>0.0</td>\n      <td>0.0</td>\n    </tr>\n    <tr>\n      <th>4196</th>\n      <td>0.0</td>\n      <td>0.0</td>\n      <td>0.0</td>\n      <td>0.0</td>\n      <td>0.0</td>\n      <td>0.0</td>\n      <td>0.0</td>\n      <td>0.0</td>\n      <td>0.0</td>\n      <td>0.0</td>\n      <td>...</td>\n      <td>0.000000</td>\n      <td>0.0</td>\n      <td>0.0</td>\n      <td>0.0</td>\n      <td>0.0</td>\n      <td>0.0</td>\n      <td>0.0</td>\n      <td>0.0</td>\n      <td>0.0</td>\n      <td>0.0</td>\n    </tr>\n    <tr>\n      <th>4197</th>\n      <td>0.0</td>\n      <td>0.0</td>\n      <td>0.0</td>\n      <td>0.0</td>\n      <td>0.0</td>\n      <td>0.0</td>\n      <td>0.0</td>\n      <td>0.0</td>\n      <td>0.0</td>\n      <td>0.0</td>\n      <td>...</td>\n      <td>0.000000</td>\n      <td>0.0</td>\n      <td>0.0</td>\n      <td>0.0</td>\n      <td>0.0</td>\n      <td>0.0</td>\n      <td>0.0</td>\n      <td>0.0</td>\n      <td>0.0</td>\n      <td>0.0</td>\n    </tr>\n    <tr>\n      <th>4198</th>\n      <td>0.0</td>\n      <td>0.0</td>\n      <td>0.0</td>\n      <td>0.0</td>\n      <td>0.0</td>\n      <td>0.0</td>\n      <td>0.0</td>\n      <td>0.0</td>\n      <td>0.0</td>\n      <td>0.0</td>\n      <td>...</td>\n      <td>0.000000</td>\n      <td>0.0</td>\n      <td>0.0</td>\n      <td>0.0</td>\n      <td>0.0</td>\n      <td>0.0</td>\n      <td>0.0</td>\n      <td>0.0</td>\n      <td>0.0</td>\n      <td>0.0</td>\n    </tr>\n    <tr>\n      <th>4199</th>\n      <td>0.0</td>\n      <td>0.0</td>\n      <td>0.0</td>\n      <td>0.0</td>\n      <td>0.0</td>\n      <td>0.0</td>\n      <td>0.0</td>\n      <td>0.0</td>\n      <td>0.0</td>\n      <td>0.0</td>\n      <td>...</td>\n      <td>0.000000</td>\n      <td>0.0</td>\n      <td>0.0</td>\n      <td>0.0</td>\n      <td>0.0</td>\n      <td>0.0</td>\n      <td>0.0</td>\n      <td>0.0</td>\n      <td>0.0</td>\n      <td>0.0</td>\n    </tr>\n    <tr>\n      <th>4200</th>\n      <td>0.0</td>\n      <td>0.0</td>\n      <td>0.0</td>\n      <td>0.0</td>\n      <td>0.0</td>\n      <td>0.0</td>\n      <td>0.0</td>\n      <td>0.0</td>\n      <td>0.0</td>\n      <td>0.0</td>\n      <td>...</td>\n      <td>0.000000</td>\n      <td>0.0</td>\n      <td>0.0</td>\n      <td>0.0</td>\n      <td>0.0</td>\n      <td>0.0</td>\n      <td>0.0</td>\n      <td>0.0</td>\n      <td>0.0</td>\n      <td>0.0</td>\n    </tr>\n    <tr>\n      <th>4201</th>\n      <td>0.0</td>\n      <td>0.0</td>\n      <td>0.0</td>\n      <td>0.0</td>\n      <td>0.0</td>\n      <td>0.0</td>\n      <td>0.0</td>\n      <td>0.0</td>\n      <td>0.0</td>\n      <td>0.0</td>\n      <td>...</td>\n      <td>0.000000</td>\n      <td>0.0</td>\n      <td>0.0</td>\n      <td>0.0</td>\n      <td>0.0</td>\n      <td>0.0</td>\n      <td>0.0</td>\n      <td>0.0</td>\n      <td>0.0</td>\n      <td>0.0</td>\n    </tr>\n    <tr>\n      <th>4202</th>\n      <td>0.0</td>\n      <td>0.0</td>\n      <td>0.0</td>\n      <td>0.0</td>\n      <td>0.0</td>\n      <td>0.0</td>\n      <td>0.0</td>\n      <td>0.0</td>\n      <td>0.0</td>\n      <td>0.0</td>\n      <td>...</td>\n      <td>0.000000</td>\n      <td>0.0</td>\n      <td>0.0</td>\n      <td>0.0</td>\n      <td>0.0</td>\n      <td>0.0</td>\n      <td>0.0</td>\n      <td>0.0</td>\n      <td>0.0</td>\n      <td>0.0</td>\n    </tr>\n    <tr>\n      <th>4203</th>\n      <td>0.0</td>\n      <td>0.0</td>\n      <td>0.0</td>\n      <td>0.0</td>\n      <td>0.0</td>\n      <td>0.0</td>\n      <td>0.0</td>\n      <td>0.0</td>\n      <td>0.0</td>\n      <td>0.0</td>\n      <td>...</td>\n      <td>0.000000</td>\n      <td>0.0</td>\n      <td>0.0</td>\n      <td>0.0</td>\n      <td>0.0</td>\n      <td>0.0</td>\n      <td>0.0</td>\n      <td>0.0</td>\n      <td>0.0</td>\n      <td>0.0</td>\n    </tr>\n    <tr>\n      <th>4204</th>\n      <td>0.0</td>\n      <td>0.0</td>\n      <td>0.0</td>\n      <td>0.0</td>\n      <td>0.0</td>\n      <td>0.0</td>\n      <td>0.0</td>\n      <td>0.0</td>\n      <td>0.0</td>\n      <td>0.0</td>\n      <td>...</td>\n      <td>0.000000</td>\n      <td>0.0</td>\n      <td>0.0</td>\n      <td>0.0</td>\n      <td>0.0</td>\n      <td>0.0</td>\n      <td>0.0</td>\n      <td>0.0</td>\n      <td>0.0</td>\n      <td>0.0</td>\n    </tr>\n    <tr>\n      <th>4205</th>\n      <td>0.0</td>\n      <td>0.0</td>\n      <td>0.0</td>\n      <td>0.0</td>\n      <td>0.0</td>\n      <td>0.0</td>\n      <td>0.0</td>\n      <td>0.0</td>\n      <td>0.0</td>\n      <td>0.0</td>\n      <td>...</td>\n      <td>0.000000</td>\n      <td>0.0</td>\n      <td>0.0</td>\n      <td>0.0</td>\n      <td>0.0</td>\n      <td>0.0</td>\n      <td>0.0</td>\n      <td>0.0</td>\n      <td>0.0</td>\n      <td>0.0</td>\n    </tr>\n    <tr>\n      <th>4206</th>\n      <td>0.0</td>\n      <td>0.0</td>\n      <td>0.0</td>\n      <td>0.0</td>\n      <td>0.0</td>\n      <td>0.0</td>\n      <td>0.0</td>\n      <td>0.0</td>\n      <td>0.0</td>\n      <td>0.0</td>\n      <td>...</td>\n      <td>0.590149</td>\n      <td>0.0</td>\n      <td>0.0</td>\n      <td>0.0</td>\n      <td>0.0</td>\n      <td>0.0</td>\n      <td>0.0</td>\n      <td>0.0</td>\n      <td>0.0</td>\n      <td>0.0</td>\n    </tr>\n    <tr>\n      <th>4207</th>\n      <td>0.0</td>\n      <td>0.0</td>\n      <td>0.0</td>\n      <td>0.0</td>\n      <td>0.0</td>\n      <td>0.0</td>\n      <td>0.0</td>\n      <td>0.0</td>\n      <td>0.0</td>\n      <td>0.0</td>\n      <td>...</td>\n      <td>0.000000</td>\n      <td>0.0</td>\n      <td>0.0</td>\n      <td>0.0</td>\n      <td>0.0</td>\n      <td>0.0</td>\n      <td>0.0</td>\n      <td>0.0</td>\n      <td>0.0</td>\n      <td>0.0</td>\n    </tr>\n    <tr>\n      <th>4208</th>\n      <td>0.0</td>\n      <td>0.0</td>\n      <td>0.0</td>\n      <td>0.0</td>\n      <td>0.0</td>\n      <td>0.0</td>\n      <td>0.0</td>\n      <td>0.0</td>\n      <td>0.0</td>\n      <td>0.0</td>\n      <td>...</td>\n      <td>0.000000</td>\n      <td>0.0</td>\n      <td>0.0</td>\n      <td>0.0</td>\n      <td>0.0</td>\n      <td>0.0</td>\n      <td>0.0</td>\n      <td>0.0</td>\n      <td>0.0</td>\n      <td>0.0</td>\n    </tr>\n    <tr>\n      <th>4209</th>\n      <td>0.0</td>\n      <td>0.0</td>\n      <td>0.0</td>\n      <td>0.0</td>\n      <td>0.0</td>\n      <td>0.0</td>\n      <td>0.0</td>\n      <td>0.0</td>\n      <td>0.0</td>\n      <td>0.0</td>\n      <td>...</td>\n      <td>0.000000</td>\n      <td>0.0</td>\n      <td>0.0</td>\n      <td>0.0</td>\n      <td>0.0</td>\n      <td>0.0</td>\n      <td>0.0</td>\n      <td>0.0</td>\n      <td>0.0</td>\n      <td>0.0</td>\n    </tr>\n    <tr>\n      <th>4210</th>\n      <td>0.0</td>\n      <td>0.0</td>\n      <td>0.0</td>\n      <td>0.0</td>\n      <td>0.0</td>\n      <td>0.0</td>\n      <td>0.0</td>\n      <td>0.0</td>\n      <td>0.0</td>\n      <td>0.0</td>\n      <td>...</td>\n      <td>0.000000</td>\n      <td>0.0</td>\n      <td>0.0</td>\n      <td>0.0</td>\n      <td>0.0</td>\n      <td>0.0</td>\n      <td>0.0</td>\n      <td>0.0</td>\n      <td>0.0</td>\n      <td>0.0</td>\n    </tr>\n    <tr>\n      <th>4211</th>\n      <td>0.0</td>\n      <td>0.0</td>\n      <td>0.0</td>\n      <td>0.0</td>\n      <td>0.0</td>\n      <td>0.0</td>\n      <td>0.0</td>\n      <td>0.0</td>\n      <td>0.0</td>\n      <td>0.0</td>\n      <td>...</td>\n      <td>0.000000</td>\n      <td>0.0</td>\n      <td>0.0</td>\n      <td>0.0</td>\n      <td>0.0</td>\n      <td>0.0</td>\n      <td>0.0</td>\n      <td>0.0</td>\n      <td>0.0</td>\n      <td>0.0</td>\n    </tr>\n    <tr>\n      <th>4212</th>\n      <td>0.0</td>\n      <td>0.0</td>\n      <td>0.0</td>\n      <td>0.0</td>\n      <td>0.0</td>\n      <td>0.0</td>\n      <td>0.0</td>\n      <td>0.0</td>\n      <td>0.0</td>\n      <td>0.0</td>\n      <td>...</td>\n      <td>0.000000</td>\n      <td>0.0</td>\n      <td>0.0</td>\n      <td>0.0</td>\n      <td>0.0</td>\n      <td>0.0</td>\n      <td>0.0</td>\n      <td>0.0</td>\n      <td>0.0</td>\n      <td>0.0</td>\n    </tr>\n  </tbody>\n</table>\n<p>4213 rows × 3436 columns</p>\n</div>",
      "text/plain": "      abandoned  ability  able  absolute  absolutely  accent  accept  \\\n0           0.0      0.0   0.0       0.0         0.0     0.0     0.0   \n1           0.0      0.0   0.0       0.0         0.0     0.0     0.0   \n2           0.0      0.0   0.0       0.0         0.0     0.0     0.0   \n3           0.0      0.0   0.0       0.0         0.0     0.0     0.0   \n4           0.0      0.0   0.0       0.0         0.0     0.0     0.0   \n5           0.0      0.0   0.0       0.0         0.0     0.0     0.0   \n6           0.0      0.0   0.0       0.0         0.0     0.0     0.0   \n7           0.0      0.0   0.0       0.0         0.0     0.0     0.0   \n8           0.0      0.0   0.0       0.0         0.0     0.0     0.0   \n9           0.0      0.0   0.0       0.0         0.0     0.0     0.0   \n10          0.0      0.0   0.0       0.0         0.0     0.0     0.0   \n11          0.0      0.0   0.0       0.0         0.0     0.0     0.0   \n12          0.0      0.0   0.0       0.0         0.0     0.0     0.0   \n13          0.0      0.0   0.0       0.0         0.0     0.0     0.0   \n14          0.0      0.0   0.0       0.0         0.0     0.0     0.0   \n15          0.0      0.0   0.0       0.0         0.0     0.0     0.0   \n16          0.0      0.0   0.0       0.0         0.0     0.0     0.0   \n17          0.0      0.0   0.0       0.0         0.0     0.0     0.0   \n18          0.0      0.0   0.0       0.0         0.0     0.0     0.0   \n19          0.0      0.0   0.0       0.0         0.0     0.0     0.0   \n20          0.0      0.0   0.0       0.0         0.0     0.0     0.0   \n21          0.0      0.0   0.0       0.0         0.0     0.0     0.0   \n22          0.0      0.0   0.0       0.0         0.0     0.0     0.0   \n23          0.0      0.0   0.0       0.0         0.0     0.0     0.0   \n24          0.0      0.0   0.0       0.0         0.0     0.0     0.0   \n25          0.0      0.0   0.0       0.0         0.0     0.0     0.0   \n26          0.0      0.0   0.0       0.0         0.0     0.0     0.0   \n27          0.0      0.0   0.0       0.0         0.0     0.0     0.0   \n28          0.0      0.0   0.0       0.0         0.0     0.0     0.0   \n29          0.0      0.0   0.0       0.0         0.0     0.0     0.0   \n...         ...      ...   ...       ...         ...     ...     ...   \n4183        0.0      0.0   0.0       0.0         0.0     0.0     0.0   \n4184        0.0      0.0   0.0       0.0         0.0     0.0     0.0   \n4185        0.0      0.0   0.0       0.0         0.0     0.0     0.0   \n4186        0.0      0.0   0.0       0.0         0.0     0.0     0.0   \n4187        0.0      0.0   0.0       0.0         0.0     0.0     0.0   \n4188        0.0      0.0   0.0       0.0         0.0     0.0     0.0   \n4189        0.0      0.0   0.0       0.0         0.0     0.0     0.0   \n4190        0.0      0.0   0.0       0.0         0.0     0.0     0.0   \n4191        0.0      0.0   0.0       0.0         0.0     0.0     0.0   \n4192        0.0      0.0   0.0       0.0         0.0     0.0     0.0   \n4193        0.0      0.0   0.0       0.0         0.0     0.0     0.0   \n4194        0.0      0.0   0.0       0.0         0.0     0.0     0.0   \n4195        0.0      0.0   0.0       0.0         0.0     0.0     0.0   \n4196        0.0      0.0   0.0       0.0         0.0     0.0     0.0   \n4197        0.0      0.0   0.0       0.0         0.0     0.0     0.0   \n4198        0.0      0.0   0.0       0.0         0.0     0.0     0.0   \n4199        0.0      0.0   0.0       0.0         0.0     0.0     0.0   \n4200        0.0      0.0   0.0       0.0         0.0     0.0     0.0   \n4201        0.0      0.0   0.0       0.0         0.0     0.0     0.0   \n4202        0.0      0.0   0.0       0.0         0.0     0.0     0.0   \n4203        0.0      0.0   0.0       0.0         0.0     0.0     0.0   \n4204        0.0      0.0   0.0       0.0         0.0     0.0     0.0   \n4205        0.0      0.0   0.0       0.0         0.0     0.0     0.0   \n4206        0.0      0.0   0.0       0.0         0.0     0.0     0.0   \n4207        0.0      0.0   0.0       0.0         0.0     0.0     0.0   \n4208        0.0      0.0   0.0       0.0         0.0     0.0     0.0   \n4209        0.0      0.0   0.0       0.0         0.0     0.0     0.0   \n4210        0.0      0.0   0.0       0.0         0.0     0.0     0.0   \n4211        0.0      0.0   0.0       0.0         0.0     0.0     0.0   \n4212        0.0      0.0   0.0       0.0         0.0     0.0     0.0   \n\n      acceptable  accepted  accepts  ...       yet  young  youre  youtube  \\\n0            0.0       0.0      0.0  ...  0.000000    0.0    0.0      0.0   \n1            0.0       0.0      0.0  ...  0.000000    0.0    0.0      0.0   \n2            0.0       0.0      0.0  ...  0.000000    0.0    0.0      0.0   \n3            0.0       0.0      0.0  ...  0.000000    0.0    0.0      0.0   \n4            0.0       0.0      0.0  ...  0.000000    0.0    0.0      0.0   \n5            0.0       0.0      0.0  ...  0.000000    0.0    0.0      0.0   \n6            0.0       0.0      0.0  ...  0.000000    0.0    0.0      0.0   \n7            0.0       0.0      0.0  ...  0.000000    0.0    0.0      0.0   \n8            0.0       0.0      0.0  ...  0.000000    0.0    0.0      0.0   \n9            0.0       0.0      0.0  ...  0.000000    0.0    0.0      0.0   \n10           0.0       0.0      0.0  ...  0.000000    0.0    0.0      0.0   \n11           0.0       0.0      0.0  ...  0.000000    0.0    0.0      0.0   \n12           0.0       0.0      0.0  ...  0.000000    0.0    0.0      0.0   \n13           0.0       0.0      0.0  ...  0.000000    0.0    0.0      0.0   \n14           0.0       0.0      0.0  ...  0.000000    0.0    0.0      0.0   \n15           0.0       0.0      0.0  ...  0.000000    0.0    0.0      0.0   \n16           0.0       0.0      0.0  ...  0.000000    0.0    0.0      0.0   \n17           0.0       0.0      0.0  ...  0.000000    0.0    0.0      0.0   \n18           0.0       0.0      0.0  ...  0.000000    0.0    0.0      0.0   \n19           0.0       0.0      0.0  ...  0.000000    0.0    0.0      0.0   \n20           0.0       0.0      0.0  ...  0.000000    0.0    0.0      0.0   \n21           0.0       0.0      0.0  ...  0.000000    0.0    0.0      0.0   \n22           0.0       0.0      0.0  ...  0.000000    0.0    0.0      0.0   \n23           0.0       0.0      0.0  ...  0.000000    0.0    0.0      0.0   \n24           0.0       0.0      0.0  ...  0.000000    0.0    0.0      0.0   \n25           0.0       0.0      0.0  ...  0.000000    0.0    0.0      0.0   \n26           0.0       0.0      0.0  ...  0.000000    0.0    0.0      0.0   \n27           0.0       0.0      0.0  ...  0.000000    0.0    0.0      0.0   \n28           0.0       0.0      0.0  ...  0.000000    0.0    0.0      0.0   \n29           0.0       0.0      0.0  ...  0.000000    0.0    0.0      0.0   \n...          ...       ...      ...  ...       ...    ...    ...      ...   \n4183         0.0       0.0      0.0  ...  0.000000    0.0    0.0      0.0   \n4184         0.0       0.0      0.0  ...  0.000000    0.0    0.0      0.0   \n4185         0.0       0.0      0.0  ...  0.000000    0.0    0.0      0.0   \n4186         0.0       0.0      0.0  ...  0.000000    0.0    0.0      0.0   \n4187         0.0       0.0      0.0  ...  0.000000    0.0    0.0      0.0   \n4188         0.0       0.0      0.0  ...  0.000000    0.0    0.0      0.0   \n4189         0.0       0.0      0.0  ...  0.000000    0.0    0.0      0.0   \n4190         0.0       0.0      0.0  ...  0.000000    0.0    0.0      0.0   \n4191         0.0       0.0      0.0  ...  0.000000    0.0    0.0      0.0   \n4192         0.0       0.0      0.0  ...  0.000000    0.0    0.0      0.0   \n4193         0.0       0.0      0.0  ...  0.000000    0.0    0.0      0.0   \n4194         0.0       0.0      0.0  ...  0.000000    0.0    0.0      0.0   \n4195         0.0       0.0      0.0  ...  0.000000    0.0    0.0      0.0   \n4196         0.0       0.0      0.0  ...  0.000000    0.0    0.0      0.0   \n4197         0.0       0.0      0.0  ...  0.000000    0.0    0.0      0.0   \n4198         0.0       0.0      0.0  ...  0.000000    0.0    0.0      0.0   \n4199         0.0       0.0      0.0  ...  0.000000    0.0    0.0      0.0   \n4200         0.0       0.0      0.0  ...  0.000000    0.0    0.0      0.0   \n4201         0.0       0.0      0.0  ...  0.000000    0.0    0.0      0.0   \n4202         0.0       0.0      0.0  ...  0.000000    0.0    0.0      0.0   \n4203         0.0       0.0      0.0  ...  0.000000    0.0    0.0      0.0   \n4204         0.0       0.0      0.0  ...  0.000000    0.0    0.0      0.0   \n4205         0.0       0.0      0.0  ...  0.000000    0.0    0.0      0.0   \n4206         0.0       0.0      0.0  ...  0.590149    0.0    0.0      0.0   \n4207         0.0       0.0      0.0  ...  0.000000    0.0    0.0      0.0   \n4208         0.0       0.0      0.0  ...  0.000000    0.0    0.0      0.0   \n4209         0.0       0.0      0.0  ...  0.000000    0.0    0.0      0.0   \n4210         0.0       0.0      0.0  ...  0.000000    0.0    0.0      0.0   \n4211         0.0       0.0      0.0  ...  0.000000    0.0    0.0      0.0   \n4212         0.0       0.0      0.0  ...  0.000000    0.0    0.0      0.0   \n\n      youve   yr  yyyy  zip  zone  zoomed  \n0       0.0  0.0   0.0  0.0   0.0     0.0  \n1       0.0  0.0   0.0  0.0   0.0     0.0  \n2       0.0  0.0   0.0  0.0   0.0     0.0  \n3       0.0  0.0   0.0  0.0   0.0     0.0  \n4       0.0  0.0   0.0  0.0   0.0     0.0  \n5       0.0  0.0   0.0  0.0   0.0     0.0  \n6       0.0  0.0   0.0  0.0   0.0     0.0  \n7       0.0  0.0   0.0  0.0   0.0     0.0  \n8       0.0  0.0   0.0  0.0   0.0     0.0  \n9       0.0  0.0   0.0  0.0   0.0     0.0  \n10      0.0  0.0   0.0  0.0   0.0     0.0  \n11      0.0  0.0   0.0  0.0   0.0     0.0  \n12      0.0  0.0   0.0  0.0   0.0     0.0  \n13      0.0  0.0   0.0  0.0   0.0     0.0  \n14      0.0  0.0   0.0  0.0   0.0     0.0  \n15      0.0  0.0   0.0  0.0   0.0     0.0  \n16      0.0  0.0   0.0  0.0   0.0     0.0  \n17      0.0  0.0   0.0  0.0   0.0     0.0  \n18      0.0  0.0   0.0  0.0   0.0     0.0  \n19      0.0  0.0   0.0  0.0   0.0     0.0  \n20      0.0  0.0   0.0  0.0   0.0     0.0  \n21      0.0  0.0   0.0  0.0   0.0     0.0  \n22      0.0  0.0   0.0  0.0   0.0     0.0  \n23      0.0  0.0   0.0  0.0   0.0     0.0  \n24      0.0  0.0   0.0  0.0   0.0     0.0  \n25      0.0  0.0   0.0  0.0   0.0     0.0  \n26      0.0  0.0   0.0  0.0   0.0     0.0  \n27      0.0  0.0   0.0  0.0   0.0     0.0  \n28      0.0  0.0   0.0  0.0   0.0     0.0  \n29      0.0  0.0   0.0  0.0   0.0     0.0  \n...     ...  ...   ...  ...   ...     ...  \n4183    0.0  0.0   0.0  0.0   0.0     0.0  \n4184    0.0  0.0   0.0  0.0   0.0     0.0  \n4185    0.0  0.0   0.0  0.0   0.0     0.0  \n4186    0.0  0.0   0.0  0.0   0.0     0.0  \n4187    0.0  0.0   0.0  0.0   0.0     0.0  \n4188    0.0  0.0   0.0  0.0   0.0     0.0  \n4189    0.0  0.0   0.0  0.0   0.0     0.0  \n4190    0.0  0.0   0.0  0.0   0.0     0.0  \n4191    0.0  0.0   0.0  0.0   0.0     0.0  \n4192    0.0  0.0   0.0  0.0   0.0     0.0  \n4193    0.0  0.0   0.0  0.0   0.0     0.0  \n4194    0.0  0.0   0.0  0.0   0.0     0.0  \n4195    0.0  0.0   0.0  0.0   0.0     0.0  \n4196    0.0  0.0   0.0  0.0   0.0     0.0  \n4197    0.0  0.0   0.0  0.0   0.0     0.0  \n4198    0.0  0.0   0.0  0.0   0.0     0.0  \n4199    0.0  0.0   0.0  0.0   0.0     0.0  \n4200    0.0  0.0   0.0  0.0   0.0     0.0  \n4201    0.0  0.0   0.0  0.0   0.0     0.0  \n4202    0.0  0.0   0.0  0.0   0.0     0.0  \n4203    0.0  0.0   0.0  0.0   0.0     0.0  \n4204    0.0  0.0   0.0  0.0   0.0     0.0  \n4205    0.0  0.0   0.0  0.0   0.0     0.0  \n4206    0.0  0.0   0.0  0.0   0.0     0.0  \n4207    0.0  0.0   0.0  0.0   0.0     0.0  \n4208    0.0  0.0   0.0  0.0   0.0     0.0  \n4209    0.0  0.0   0.0  0.0   0.0     0.0  \n4210    0.0  0.0   0.0  0.0   0.0     0.0  \n4211    0.0  0.0   0.0  0.0   0.0     0.0  \n4212    0.0  0.0   0.0  0.0   0.0     0.0  \n\n[4213 rows x 3436 columns]"
     },
     "execution_count": 8,
     "metadata": {},
     "output_type": "execute_result"
    }
   ],
   "source": [
    "deadbeats = pd.DataFrame(\n",
    "    data = word_count_vectors,\n",
    "    columns = tfidf.get_feature_names()\n",
    ")\n",
    "deadbeats"
   ]
  },
  {
   "cell_type": "code",
   "execution_count": 9,
   "metadata": {},
   "outputs": [],
   "source": [
    "features = deadbeats"
   ]
  },
  {
   "cell_type": "code",
   "execution_count": 10,
   "metadata": {},
   "outputs": [],
   "source": [
    "target = df['deadbeats']"
   ]
  },
  {
   "cell_type": "code",
   "execution_count": 11,
   "metadata": {},
   "outputs": [
    {
     "data": {
      "text/plain": "0    3342\n1     871\nName: deadbeats, dtype: int64"
     },
     "execution_count": 11,
     "metadata": {},
     "output_type": "execute_result"
    }
   ],
   "source": [
    "target.value_counts()"
   ]
  },
  {
   "cell_type": "code",
   "execution_count": 12,
   "metadata": {},
   "outputs": [],
   "source": [
    "from sklearn.model_selection import cross_val_score\n",
    "from sklearn.metrics import accuracy_score\n",
    "from sklearn.naive_bayes import GaussianNB\n",
    "from sklearn.linear_model import LogisticRegression\n",
    "from sklearn.naive_bayes import BernoulliNB\n",
    "from sklearn.ensemble import RandomForestClassifier\n",
    "from sklearn.neighbors import KNeighborsClassifier\n",
    "from sklearn.svm import LinearSVC\n",
    "from sklearn.neural_network import MLPClassifier\n",
    "\n",
    "\n",
    "classifiers = {'Logistic Regression': LogisticRegression(random_state=0, solver='lbfgs', multi_class='ovr'),\n",
    "              'Gaussian NB': GaussianNB(),\n",
    "              'Bernoulli NB': BernoulliNB(),\n",
    "              'Random Forest': RandomForestClassifier(n_estimators=100, max_depth=2, random_state=0),\n",
    "              'KNeighborsClassifier': KNeighborsClassifier(), \n",
    "              'Linear SVC': LinearSVC(),\n",
    "              'Neural Network':  MLPClassifier(solver='lbfgs', alpha=1e-5, hidden_layer_sizes=(5, 2), random_state=1)}\n",
    "              \n",
    "def compare_models(x, y, model_dict, folds=3):\n",
    "    results = []\n",
    "    for name, model in model_dict.items():\n",
    "        scores = cross_val_score(model, x, y, cv=folds)\n",
    "        stats = [name, scores.mean(), min(scores), max(scores), scores.std(), pd.Series(scores).mad(), scores]\n",
    "        results.append(stats)\n",
    "    df = pd.DataFrame(results, columns = ['Model', 'Mean', 'Min', 'Max','Std', 'Mad', 'Score'])\n",
    "    df = df.sort_values('Mean', ascending = False)\n",
    "    return df"
   ]
  },
  {
   "cell_type": "code",
   "execution_count": 13,
   "metadata": {},
   "outputs": [
    {
     "data": {
      "text/html": "<div>\n<style scoped>\n    .dataframe tbody tr th:only-of-type {\n        vertical-align: middle;\n    }\n\n    .dataframe tbody tr th {\n        vertical-align: top;\n    }\n\n    .dataframe thead th {\n        text-align: right;\n    }\n</style>\n<table border=\"1\" class=\"dataframe\">\n  <thead>\n    <tr style=\"text-align: right;\">\n      <th></th>\n      <th>Model</th>\n      <th>Mean</th>\n      <th>Min</th>\n      <th>Max</th>\n      <th>Std</th>\n      <th>Mad</th>\n      <th>Score</th>\n    </tr>\n  </thead>\n  <tbody>\n    <tr>\n      <th>0</th>\n      <td>Logistic Regression</td>\n      <td>0.802752</td>\n      <td>0.794160</td>\n      <td>0.807829</td>\n      <td>0.006109</td>\n      <td>0.005728</td>\n      <td>[0.8078291814946619, 0.7941595441595442, 0.806...</td>\n    </tr>\n    <tr>\n      <th>3</th>\n      <td>Random Forest</td>\n      <td>0.793259</td>\n      <td>0.792883</td>\n      <td>0.793447</td>\n      <td>0.000266</td>\n      <td>0.000251</td>\n      <td>[0.79288256227758, 0.7934472934472935, 0.79344...</td>\n    </tr>\n    <tr>\n      <th>5</th>\n      <td>Linear SVC</td>\n      <td>0.778064</td>\n      <td>0.750000</td>\n      <td>0.795730</td>\n      <td>0.020065</td>\n      <td>0.018709</td>\n      <td>[0.7957295373665481, 0.75, 0.7884615384615384]</td>\n    </tr>\n    <tr>\n      <th>2</th>\n      <td>Bernoulli NB</td>\n      <td>0.753378</td>\n      <td>0.726496</td>\n      <td>0.770107</td>\n      <td>0.019197</td>\n      <td>0.017922</td>\n      <td>[0.7701067615658364, 0.7264957264957265, 0.763...</td>\n    </tr>\n    <tr>\n      <th>6</th>\n      <td>Neural Network</td>\n      <td>0.742466</td>\n      <td>0.698006</td>\n      <td>0.794160</td>\n      <td>0.039587</td>\n      <td>0.034463</td>\n      <td>[0.7352313167259786, 0.698005698005698, 0.7941...</td>\n    </tr>\n    <tr>\n      <th>4</th>\n      <td>KNeighborsClassifier</td>\n      <td>0.717301</td>\n      <td>0.711538</td>\n      <td>0.728826</td>\n      <td>0.008149</td>\n      <td>0.007683</td>\n      <td>[0.7288256227758008, 0.7115384615384616, 0.711...</td>\n    </tr>\n    <tr>\n      <th>1</th>\n      <td>Gaussian NB</td>\n      <td>0.491339</td>\n      <td>0.479004</td>\n      <td>0.502849</td>\n      <td>0.009752</td>\n      <td>0.008224</td>\n      <td>[0.4790035587188612, 0.5028490028490028, 0.492...</td>\n    </tr>\n  </tbody>\n</table>\n</div>",
      "text/plain": "                  Model      Mean       Min       Max       Std       Mad  \\\n0   Logistic Regression  0.802752  0.794160  0.807829  0.006109  0.005728   \n3         Random Forest  0.793259  0.792883  0.793447  0.000266  0.000251   \n5            Linear SVC  0.778064  0.750000  0.795730  0.020065  0.018709   \n2          Bernoulli NB  0.753378  0.726496  0.770107  0.019197  0.017922   \n6        Neural Network  0.742466  0.698006  0.794160  0.039587  0.034463   \n4  KNeighborsClassifier  0.717301  0.711538  0.728826  0.008149  0.007683   \n1           Gaussian NB  0.491339  0.479004  0.502849  0.009752  0.008224   \n\n                                               Score  \n0  [0.8078291814946619, 0.7941595441595442, 0.806...  \n3  [0.79288256227758, 0.7934472934472935, 0.79344...  \n5     [0.7957295373665481, 0.75, 0.7884615384615384]  \n2  [0.7701067615658364, 0.7264957264957265, 0.763...  \n6  [0.7352313167259786, 0.698005698005698, 0.7941...  \n4  [0.7288256227758008, 0.7115384615384616, 0.711...  \n1  [0.4790035587188612, 0.5028490028490028, 0.492...  "
     },
     "execution_count": 13,
     "metadata": {},
     "output_type": "execute_result"
    }
   ],
   "source": [
    "compare_models(features, target, classifiers, folds=3)"
   ]
  },
  {
   "cell_type": "code",
   "execution_count": 14,
   "metadata": {},
   "outputs": [],
   "source": [
    "from sklearn.model_selection import train_test_split\n",
    "\n",
    "train_X, test_X, train_y, test_y = train_test_split(\n",
    "    features,\n",
    "    target,\n",
    "    test_size = .2,\n",
    "    random_state = 42\n",
    ")"
   ]
  },
  {
   "cell_type": "code",
   "execution_count": 15,
   "metadata": {},
   "outputs": [
    {
     "name": "stdout",
     "output_type": "stream",
     "text": "acurracy:  0.8279952550415184\nprecision:  0.7741935483870968\nrecall:  0.14814814814814814\nf1_score:  0.2487046632124352\n"
    }
   ],
   "source": [
    "from sklearn.linear_model import LogisticRegression\n",
    "from sklearn.metrics import precision_score, recall_score, f1_score\n",
    "\n",
    "log_regr = LogisticRegression(random_state=0, solver='lbfgs', multi_class='ovr')\n",
    "log_regr.fit(train_X, train_y.values.ravel())\n",
    "predictions = log_regr.predict(test_X)\n",
    "actual_values = test_y\n",
    "print('acurracy: ',accuracy_score(actual_values, predictions)) \n",
    "print('precision: ',precision_score(actual_values, predictions)) \n",
    "print('recall: ', recall_score(actual_values, predictions))\n",
    "print('f1_score: ', f1_score(actual_values, predictions))"
   ]
  },
  {
   "cell_type": "code",
   "execution_count": 16,
   "metadata": {},
   "outputs": [
    {
     "name": "stdout",
     "output_type": "stream",
     "text": "roc_auc_score:  0.6224506444770762\nacurracy:  0.8232502965599051\nprecision:  0.5783132530120482\nrecall:  0.2962962962962963\nf1_score:  0.39183673469387753\n"
    }
   ],
   "source": [
    "from sklearn.ensemble import RandomForestClassifier\n",
    "\n",
    "rfc = RandomForestClassifier(n_estimators=10).fit(train_X, train_y.values.ravel())\n",
    "\n",
    "predictions = rfc.predict(test_X)\n",
    "actual_values = test_y\n",
    "\n",
    "print('roc_auc_score: ', roc_auc_score(actual_values, predictions) )\n",
    "print('acurracy: ',accuracy_score(actual_values, predictions)) \n",
    "print('precision: ',precision_score(actual_values, predictions)) \n",
    "print('recall: ', recall_score(actual_values, predictions))\n",
    "print('f1_score: ', f1_score(actual_values, predictions))"
   ]
  },
  {
   "cell_type": "code",
   "execution_count": 17,
   "metadata": {},
   "outputs": [
    {
     "data": {
      "text/plain": "1    2661\n0    2661\nName: deadbeats, dtype: int64"
     },
     "execution_count": 17,
     "metadata": {},
     "output_type": "execute_result"
    }
   ],
   "source": [
    "from sklearn.utils import resample\n",
    "\n",
    "# concatenate our training data back together\n",
    "X = pd.concat([train_X, train_y], axis=1)\n",
    "\n",
    "# separate minority and majority classes\n",
    "not_deadbeats = X[X.deadbeats==0]\n",
    "deadbeats = X[X.deadbeats==1]\n",
    "\n",
    "# upsample minority\n",
    "deadbeats_upsampled = resample(deadbeats,\n",
    "                          replace=True, # sample with replacement\n",
    "                          n_samples=len(not_deadbeats), # match number in majority class\n",
    "                          random_state=27) # reproducible results\n",
    "\n",
    "# combine majority and upsampled minority\n",
    "upsampled = pd.concat([not_deadbeats, deadbeats_upsampled])\n",
    "\n",
    "# check new class counts\n",
    "upsampled.deadbeats.value_counts()"
   ]
  },
  {
   "cell_type": "code",
   "execution_count": 18,
   "metadata": {},
   "outputs": [
    {
     "name": "stdout",
     "output_type": "stream",
     "text": "roc_auc_score:  0.7045059009082505\nacurracy:  0.7924080664294187\nprecision:  0.4666666666666667\nrecall:  0.5617283950617284\nf1_score:  0.5098039215686275\n"
    }
   ],
   "source": [
    "train_X = upsampled.drop('deadbeats', axis=1)\n",
    "train_y = upsampled['deadbeats']\n",
    "\n",
    "log_regr = LogisticRegression(random_state=0, solver='lbfgs', multi_class='ovr')\n",
    "log_regr.fit(train_X, train_y.values.ravel())\n",
    "predictions = log_regr.predict(test_X)\n",
    "actual_values = test_y\n",
    "print('roc_auc_score: ', roc_auc_score(actual_values, predictions) )\n",
    "print('acurracy: ',accuracy_score(actual_values, predictions)) \n",
    "print('precision: ',precision_score(actual_values, predictions)) \n",
    "print('recall: ', recall_score(actual_values, predictions))\n",
    "print('f1_score: ', f1_score(actual_values, predictions))"
   ]
  },
  {
   "cell_type": "code",
   "execution_count": 19,
   "metadata": {},
   "outputs": [
    {
     "data": {
      "text/plain": "1    709\n0    709\nName: deadbeats, dtype: int64"
     },
     "execution_count": 19,
     "metadata": {},
     "output_type": "execute_result"
    }
   ],
   "source": [
    "from sklearn.utils import resample\n",
    "\n",
    "# downsample minority\n",
    "deadbeats_downsampled = resample(not_deadbeats,\n",
    "                          replace=False, # sample with replacement\n",
    "                          n_samples=len(deadbeats), # match number in majority class\n",
    "                          random_state=27) # reproducible results\n",
    "\n",
    "# combine majority and upsampled minority\n",
    "downsampled = pd.concat([deadbeats, deadbeats_downsampled])\n",
    "\n",
    "# check new class counts\n",
    "downsampled.deadbeats.value_counts()"
   ]
  },
  {
   "cell_type": "code",
   "execution_count": 20,
   "metadata": {},
   "outputs": [
    {
     "name": "stdout",
     "output_type": "stream",
     "text": "roc_auc_score:  0.6779518137814761\nacurracy:  0.7153024911032029\nprecision:  0.3597122302158273\nrecall:  0.6172839506172839\nf1_score:  0.45454545454545453\n"
    }
   ],
   "source": [
    "train_X = downsampled.drop('deadbeats', axis=1)\n",
    "train_y = downsampled['deadbeats']\n",
    "\n",
    "log_regr = LogisticRegression(random_state=0, solver='lbfgs', multi_class='ovr')\n",
    "log_regr.fit(train_X, train_y.values.ravel())\n",
    "predictions = log_regr.predict(test_X)\n",
    "actual_values = test_y\n",
    "print('roc_auc_score: ', roc_auc_score(actual_values, predictions) )\n",
    "print('acurracy: ',accuracy_score(actual_values, predictions)) \n",
    "print('precision: ',precision_score(actual_values, predictions)) \n",
    "print('recall: ', recall_score(actual_values, predictions))\n",
    "print('f1_score: ', f1_score(actual_values, predictions))"
   ]
  },
  {
   "cell_type": "code",
   "execution_count": null,
   "metadata": {},
   "outputs": [],
   "source": []
  }
 ]
}